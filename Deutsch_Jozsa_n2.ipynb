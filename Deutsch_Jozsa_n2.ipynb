{
  "nbformat": 4,
  "nbformat_minor": 0,
  "metadata": {
    "colab": {
      "provenance": [],
      "collapsed_sections": [],
      "authorship_tag": "ABX9TyOk1/2bQknMvCNn+uv8fz46",
      "include_colab_link": true
    },
    "kernelspec": {
      "name": "python3",
      "display_name": "Python 3"
    },
    "language_info": {
      "name": "python"
    }
  },
  "cells": [
    {
      "cell_type": "markdown",
      "metadata": {
        "id": "view-in-github",
        "colab_type": "text"
      },
      "source": [
        "<a href=\"https://colab.research.google.com/github/ezhilnikhilan/CS583_QuantumAlgorithms/blob/main/Deutsch_Jozsa_n2.ipynb\" target=\"_parent\"><img src=\"https://colab.research.google.com/assets/colab-badge.svg\" alt=\"Open In Colab\"/></a>"
      ]
    },
    {
      "cell_type": "code",
      "source": [
        "!pip install cirq"
      ],
      "metadata": {
        "id": "qkHvS4-AgEaE"
      },
      "execution_count": null,
      "outputs": []
    },
    {
      "cell_type": "code",
      "execution_count": 255,
      "metadata": {
        "id": "pFbBQ5fLLmrJ"
      },
      "outputs": [],
      "source": [
        "import cirq\n",
        "import random\n",
        "from cirq import H, X, CNOT, measure, I"
      ]
    },
    {
      "cell_type": "markdown",
      "source": [
        "# **Deutsch-Jozsa Algorithm for n = 2** \n",
        "\n",
        "#### **Oracle Logic:** The following is the most concise representation of the gates that produce $ t ⊕ f(c) $ that I could come up with:\n",
        "\n",
        "\n",
        "> **FIRST 2 BITS:**\n",
        "0 -> none; \n",
        "1 -> CNOT(q0), CNOT(q1);\n",
        " 2 -> CNOT(q0), CNOT(q1), X; \n",
        " 3 -> CNOT(q0), X \n",
        "\n",
        "> **NEXT 2 BITS:** if bot > 0 && (top == 3 or bot == top) : CNOT(q0)\n",
        "\n",
        "(Interpretations/observations after code)"
      ],
      "metadata": {
        "id": "1UZ4O3KudAg2"
      }
    },
    {
      "cell_type": "code",
      "source": [
        "def make_oracle_n2(q0, q1, target, secret_function):\n",
        "    \"\"\"Gates implementing the secret function f(x).\"\"\"\n",
        "    gates = []\n",
        "    top, bot = secret_function[0], secret_function[1]\n",
        "\n",
        "    if top > 0:\n",
        "        gates.append(CNOT(q0, target))\n",
        "        if top > 1:\n",
        "          gates.append(X(target))\n",
        "        if top < 3:\n",
        "          gates.append(CNOT(q1, target))\n",
        "      \n",
        "    if bot > 0 and (bot == top or top == 3):\n",
        "       gates.append(CNOT(q0, target))\n",
        "    \n",
        "    yield gates\n",
        "\n",
        "def make_deutsch_jozsa_circuit(q0, q1, target, oracle):\n",
        "    c = cirq.Circuit()\n",
        "\n",
        "    # Initialize qubits.\n",
        "    c.append([X(target), H(target), H(q1), H(q0)])\n",
        "\n",
        "    # Query oracle.\n",
        "    c.append(oracle)\n",
        "\n",
        "    # Measure in H basis.-\n",
        "    c.append([H(q0), H(q1), measure([q0,q1], key = \"result_q0_q1\")])\n",
        "    return c\n",
        "\n",
        "def num_to_bin(num):\n",
        "    digs = [dig for dig in str(bin(num)[2:])]\n",
        "    if len(digs) < 2:\n",
        "      digs = [\"0\"] + digs \n",
        "    return \", \".join(digs)\n",
        "\n",
        "\n",
        "def execute_deutsch_jozsa(only_balanced = False, secret_function = [1,0], num_reps = 1):\n",
        "    # Choose qubits to use.\n",
        "    q0, q1, target = cirq.LineQubit.range(3)\n",
        "\n",
        "    # Pick a secret 4-bit function and create a circuit to query the oracle. Select only the valid cases.\n",
        "    while((bin(secret_function[0]).count('1') + bin(secret_function[1]).count('1')) % 2 != 0 or \n",
        "      (only_balanced and secret_function[0]%3 == secret_function[1]%3 and secret_function[0]%3 == 0)):\n",
        "      secret_function = [random.randint(0, 3) for _ in range(2)]\n",
        "\n",
        "    oracle = make_oracle_n2(q0, q1, target, secret_function)\n",
        "    print(f\"Secret function:\\tf(x) = <{', '.join([num_to_bin(e) for e in secret_function])}>  ----> \\n\")\n",
        "\n",
        "    # Embed the oracle into a quantum circuit querying it exactly once.\n",
        "    circuit = make_deutsch_jozsa_circuit(q0, q1, target, oracle)\n",
        "    print(f'Circuit: \\n')\n",
        "    print(circuit)\n",
        "\n",
        "    # Simulate the circuit.\n",
        "    simulator = cirq.Simulator()\n",
        "    result = simulator.run(circuit, repetitions=num_reps)\n",
        "    measured_res = result.measurements['result_q0_q1'][:, 0:]\n",
        "    print(measured_res[0][0])\n",
        "    print(f'\\nResult of f(0)⊕f(1)⊕f(2) for {num_reps} repetitions : {\", \".join(str(res[0])+str(res[1]) for res in measured_res)} \\n')\n",
        "    print(\"-\"*100)\n"
      ],
      "metadata": {
        "id": "KOffPziMMpOK"
      },
      "execution_count": 260,
      "outputs": []
    },
    {
      "cell_type": "markdown",
      "source": [
        "# Constant vs Balanced:\n",
        "\n",
        "We should measure q0q1 -> 00 for both the constant states. "
      ],
      "metadata": {
        "id": "ljVVX3nRl-jD"
      }
    },
    {
      "cell_type": "code",
      "source": [
        "# BOTH CONSTANT CASES\n",
        "execute_deutsch_jozsa(secret_function=[0,0], num_reps=10)\n",
        "execute_deutsch_jozsa(secret_function=[3,3], num_reps=10)\n",
        "\n",
        "#ANY RANDOM BALANCED CASE\n",
        "execute_deutsch_jozsa(only_balanced=True,num_reps=10)"
      ],
      "metadata": {
        "colab": {
          "base_uri": "https://localhost:8080/"
        },
        "id": "xojDtBDFKmje",
        "outputId": "3552be28-8ed3-427f-c0e8-f6fb8169e4e6"
      },
      "execution_count": 261,
      "outputs": [
        {
          "output_type": "stream",
          "name": "stdout",
          "text": [
            "Secret function:\tf(x) = <0, 0, 0, 0>  ----> \n",
            "\n",
            "Circuit: \n",
            "\n",
            "0: ───H───H───M('result_q0_q1')───\n",
            "              │\n",
            "1: ───H───H───M───────────────────\n",
            "\n",
            "2: ───X───H───────────────────────\n",
            "0\n",
            "\n",
            "Result of f(0)⊕f(1)⊕f(2) for 10 repetitions : 00, 00, 00, 00, 00, 00, 00, 00, 00, 00 \n",
            "\n",
            "----------------------------------------------------------------------------------------------------\n",
            "Secret function:\tf(x) = <1, 1, 1, 1>  ----> \n",
            "\n",
            "Circuit: \n",
            "\n",
            "0: ───H───────@───────@───H───M('result_q0_q1')───\n",
            "              │       │       │\n",
            "1: ───H───H───┼───────┼───────M───────────────────\n",
            "              │       │\n",
            "2: ───X───H───X───X───X───────────────────────────\n",
            "0\n",
            "\n",
            "Result of f(0)⊕f(1)⊕f(2) for 10 repetitions : 00, 00, 00, 00, 00, 00, 00, 00, 00, 00 \n",
            "\n",
            "----------------------------------------------------------------------------------------------------\n",
            "Secret function:\tf(x) = <1, 0, 1, 0>  ----> \n",
            "\n",
            "Circuit: \n",
            "\n",
            "                          ┌──┐\n",
            "0: ───H───────@────────────@─────H───M('result_q0_q1')───\n",
            "              │            │         │\n",
            "1: ───H───────┼───────@────┼H────────M───────────────────\n",
            "              │       │    │\n",
            "2: ───X───H───X───X───X────X─────────────────────────────\n",
            "                          └──┘\n",
            "0\n",
            "\n",
            "Result of f(0)⊕f(1)⊕f(2) for 10 repetitions : 01, 01, 01, 01, 01, 01, 01, 01, 01, 01 \n",
            "\n",
            "----------------------------------------------------------------------------------------------------\n"
          ]
        }
      ]
    },
    {
      "cell_type": "markdown",
      "source": [
        "# **Some observations**\n",
        "\n",
        "## **1. Interpretation of results**\n",
        "\n",
        "Due to phase kickback, the operations performed on the target qubit are \"kicked back\" to the control qubits q0 and q1.\n",
        "\n",
        "Since the Walsh-Hadamard transform $H^{⊗n} |x⟩$ is applied to the control qubits, we can derive that the final measurement $ |u⟩ = |00⟩ $ is only achieved for the constant case.\n",
        "\n",
        "## **2. Possibilities and speed**\n",
        "\n",
        "For the $ n = 2 $ case, there are a total of 8 (2 constant + 6 balanced) possible cases for the unknown function $f(x)$. A classical computer would need to make $ 2^{n-1} + 1 = 3 $ queries to $f(x)$ in order to reliably determine if it is constant or balanced.\n",
        "\n",
        "The Deutsch-Jozsa algorithm offers exponential speed-up by determining the output through the measurement of n( = 2)-bits"
      ],
      "metadata": {
        "id": "unvhKpC5pN3T"
      }
    },
    {
      "cell_type": "markdown",
      "source": [
        "### **Deutsch Algorithm reference -> n = 1 case**"
      ],
      "metadata": {
        "id": "ezcJQxr9ckEP"
      }
    },
    {
      "cell_type": "code",
      "source": [
        "'''def main():\n",
        "    # Choose qubits to use.\n",
        "    q0, q1 = cirq.LineQubit.range(2)\n",
        "\n",
        "    # Pick a secret 2-bit function and create a circuit to query the oracle.\n",
        "    secret_function = [random.randint(0, 1) for _ in range(2)]\n",
        "\n",
        "    oracle = make_oracle(q0, q1, secret_function)\n",
        "    print(f\"Secret function:\\nf(x) = <{', '.join(str(e) for e in secret_function)}>\")\n",
        "\n",
        "    # Embed the oracle into a quantum circuit querying it exactly once.\n",
        "    circuit = make_deutsch_circuit(q0, q1, oracle)\n",
        "    print('Circuit:')\n",
        "    print(circuit)\n",
        "\n",
        "    # Simulate the circuit.\n",
        "    simulator = cirq.Simulator()\n",
        "    result = simulator.run(circuit)\n",
        "    print('Result of f(0)⊕f(1):')\n",
        "    print(result)\n",
        "\n",
        "\n",
        "def make_oracle(q0, q1, secret_function):\n",
        "    \"\"\"Gates implementing the secret function f(x).\"\"\"\n",
        "\n",
        "    # coverage: ignore\n",
        "    if secret_function[0]:\n",
        "        yield [CNOT(q0, q1), X(q1)]\n",
        "\n",
        "    if secret_function[1]:\n",
        "        yield CNOT(q0, q1)\n",
        "\n",
        "\n",
        "def make_deutsch_circuit(q0, q1, oracle):\n",
        "    c = cirq.Circuit()\n",
        "\n",
        "    # Initialize qubits.\n",
        "    c.append([X(q1), H(q1), H(q0)])\n",
        "\n",
        "    # Query oracle.\n",
        "    c.append(oracle)\n",
        "\n",
        "    # Measure in X basis.\n",
        "    c.append([H(q0), measure(q0, key='result')])\n",
        "    return c\n",
        "    \n",
        "if __name__ == '__main__':\n",
        "    main()'''"
      ],
      "metadata": {
        "id": "esCtA05iLt7Y"
      },
      "execution_count": 25,
      "outputs": []
    }
  ]
}